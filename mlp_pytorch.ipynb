{
 "cells": [
  {
   "cell_type": "markdown",
   "metadata": {},
   "source": [
    "# Perceptron multi capa con PyTorch\n",
    "\n",
    "El diseño permite una cantidad de capas ocultas dinamicas"
   ]
  },
  {
   "cell_type": "code",
   "execution_count": 7,
   "metadata": {},
   "outputs": [],
   "source": [
    "import torch\n",
    "import torch.nn as nn\n",
    "\n",
    "torch.set_default_dtype(torch.float64)\n",
    "\n",
    "class MLP(nn.Module):\n",
    "    def __init__(self, input_size, hidden_sizes, output_size):\n",
    "        super(MLP, self).__init__()\n",
    "        layers = []\n",
    "        in_size = input_size\n",
    "        for hidden_size in hidden_sizes:\n",
    "            layers.append(nn.Linear(in_size, hidden_size))\n",
    "            layers.append(nn.Tanh())\n",
    "            in_size = hidden_size\n",
    "        layers.append(nn.Linear(in_size, output_size))\n",
    "        layers.append(nn.Tanh())\n",
    "        self.network = nn.Sequential(*layers)\n",
    "    \n",
    "    def forward(self, x):\n",
    "        return self.network(x)\n"
   ]
  },
  {
   "cell_type": "code",
   "execution_count": 58,
   "metadata": {},
   "outputs": [],
   "source": [
    "import torch.optim as optim\n",
    "\n",
    "def train_model(model, x, y, criterion, optimizer, num_epochs):\n",
    "    for epoch in range(num_epochs):\n",
    "        outputs = model(x)\n",
    "        loss = criterion(outputs, y)\n",
    "        \n",
    "        optimizer.zero_grad()\n",
    "        loss.backward()\n",
    "        optimizer.step()\n",
    "        \n",
    "        if (epoch + 1) % 100 == 0:\n",
    "            _, predicted = torch.max(outputs.data, 1)\n",
    "            _, actual = torch.max(y.data, 1)\n",
    "            accuracy = (predicted == actual).sum().item() / actual.size(0)\n",
    "            print(f'Epoch [{epoch + 1}/{num_epochs}], Loss: {loss.item():.4f}, Accuracy: {accuracy:.4f}')"
   ]
  },
  {
   "cell_type": "markdown",
   "metadata": {},
   "source": [
    "Ejemplo de problema de clasificación resuelto"
   ]
  },
  {
   "cell_type": "code",
   "execution_count": 59,
   "metadata": {},
   "outputs": [
    {
     "name": "stdout",
     "output_type": "stream",
     "text": [
      "Epoch [100/500], Loss: 0.3758, Accuracy: 0.9870\n",
      "Epoch [200/500], Loss: 0.2853, Accuracy: 0.9940\n",
      "Epoch [300/500], Loss: 0.2645, Accuracy: 0.9970\n",
      "Epoch [400/500], Loss: 0.2564, Accuracy: 0.9970\n",
      "Epoch [500/500], Loss: 0.2524, Accuracy: 0.9970\n",
      "\n",
      "First 5 elements of the dataset (features and labels):\n",
      "          A         B   C\n",
      "0 -0.056240  0.336536   1\n",
      "1  0.093222  0.138700   1\n",
      "2  2.242435  3.008840   2\n",
      "3  0.005527 -0.138740   1\n",
      "4 -2.143559  2.439455   2\n",
      "\n",
      "First 5 predicted values:\n",
      "tensor([1, 1, 2, 1, 2])\n"
     ]
    }
   ],
   "source": [
    "import pandas as pd\n",
    "\n",
    "df = pd.read_csv('./practica_4_data/p13_ej4_classif.csv', delimiter=',')\n",
    "x = torch.tensor(df.iloc[:, :2].values, dtype=torch.float64)\n",
    "z = torch.tensor(pd.get_dummies(df.iloc[:, -1]).values, dtype=torch.float64)\n",
    "\n",
    "input_size = 2\n",
    "hidden_sizes = [4]\n",
    "output_size = z.size(1)\n",
    "\n",
    "model = MLP(input_size, hidden_sizes, output_size)\n",
    "criterion = nn.CrossEntropyLoss()\n",
    "optimizer = optim.Adam(model.parameters(), lr=0.01)\n",
    "num_epochs = 500\n",
    "\n",
    "train_model(model, x, z, criterion, optimizer, num_epochs)\n",
    "\n",
    "print(\"\\nFirst 5 elements of the dataset (features and labels):\")\n",
    "print(df.head())\n",
    "\n",
    "predicted_data = model(x).detach().numpy()\n",
    "print(\"\\nFirst 5 predicted values:\")\n",
    "predicted_classes = torch.argmax(torch.tensor(predicted_data), dim=1) + 1\n",
    "print(predicted_classes[:5])"
   ]
  },
  {
   "cell_type": "code",
   "execution_count": 72,
   "metadata": {},
   "outputs": [
    {
     "name": "stdout",
     "output_type": "stream",
     "text": [
      "Input size: 57\n",
      "Hidden sizes: [50, 25]\n",
      "Output size: 10\n",
      "Epoch [100/1000], Loss: 0.0940, Accuracy: 0.1150\n",
      "Epoch [200/1000], Loss: 0.0924, Accuracy: 0.1220\n",
      "Epoch [300/1000], Loss: 0.0917, Accuracy: 0.1220\n",
      "Epoch [400/1000], Loss: 0.0911, Accuracy: 0.1300\n",
      "Epoch [500/1000], Loss: 0.0906, Accuracy: 0.1470\n",
      "Epoch [600/1000], Loss: 0.0902, Accuracy: 0.1500\n",
      "Epoch [700/1000], Loss: 0.0904, Accuracy: 0.1210\n",
      "Epoch [800/1000], Loss: 0.0903, Accuracy: 0.1270\n",
      "Epoch [900/1000], Loss: 0.0903, Accuracy: 0.1290\n",
      "Epoch [1000/1000], Loss: 0.0902, Accuracy: 0.1290\n",
      "\n",
      "First 5 elements of the dataset (features and labels):\n",
      "0    blues\n",
      "1    blues\n",
      "2    blues\n",
      "3    blues\n",
      "4    blues\n",
      "Name: label, dtype: object\n",
      "\n",
      "First 5 predicted values:\n",
      "['country' 'country' 'country' 'country' 'country']\n"
     ]
    }
   ],
   "source": [
    "import pandas as pd\n",
    "\n",
    "df = pd.read_csv('./music_data/features_30_sec.csv', delimiter=',')\n",
    "\n",
    "x = torch.tensor(df.iloc[:, 2:-1].values, dtype=torch.float64)\n",
    "z = torch.tensor(pd.get_dummies(df['label']).values, dtype=torch.float64)\n",
    "\n",
    "input_size = x.shape[1]\n",
    "hidden_sizes = [50, 25]\n",
    "output_size = z.size(1)\n",
    "\n",
    "print(f\"Input size: {input_size}\")\n",
    "print(f\"Hidden sizes: {hidden_sizes}\")\n",
    "print(f\"Output size: {output_size}\")\n",
    "\n",
    "model = MLP(input_size, hidden_sizes, output_size)\n",
    "criterion = nn.MSELoss()\n",
    "optimizer = optim.SGD(model.parameters(), lr=0.001, momentum=0.9)\n",
    "num_epochs = 1000\n",
    "\n",
    "train_model(model, x, z, criterion, optimizer, num_epochs)\n",
    "\n",
    "print(\"\\nFirst 5 elements of the dataset (features and labels):\")\n",
    "print(df.head()['label'])\n",
    "\n",
    "predicted_data = model(x).detach().numpy()\n",
    "print(\"\\nFirst 5 predicted values:\")\n",
    "\n",
    "predicted_classes = torch.argmax(torch.tensor(predicted_data), dim=1)\n",
    "predicted_labels = df['label'].unique()[predicted_classes]\n",
    "print(predicted_labels[:5])"
   ]
  }
 ],
 "metadata": {
  "kernelspec": {
   "display_name": "venv",
   "language": "python",
   "name": "python3"
  },
  "language_info": {
   "codemirror_mode": {
    "name": "ipython",
    "version": 3
   },
   "file_extension": ".py",
   "mimetype": "text/x-python",
   "name": "python",
   "nbconvert_exporter": "python",
   "pygments_lexer": "ipython3",
   "version": "3.10.14"
  }
 },
 "nbformat": 4,
 "nbformat_minor": 2
}
